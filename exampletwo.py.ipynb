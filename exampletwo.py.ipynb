{
 "cells": [
  {
   "cell_type": "code",
   "execution_count": 5,
   "metadata": {},
   "outputs": [
    {
     "name": "stdout",
     "output_type": "stream",
     "text": [
      "关于在黑龙江省启动2018年中晚稻最低收购价执行预案的通知\n",
      "【2018-11-13】\n",
      "国家粮食和物资储备局门户网站  www.chinagrain.gov.cn\n",
      "中国储备粮管理集团有限公司：\n",
      "你公司《关于黑龙江省启动2018年中晚稻最低收购价执行预案的请示》（中储粮〔2018〕255号）收悉。根据国家发展改革委、国家粮食和物资储备局等部门《关于印发小麦和稻谷最低收购价执行预案的通知》（国粮发〔2018〕99号）有关规定，经研究，同意自11月13日起在黑龙江省内符合条件的相关地区启动2018年中晚稻最低收购价执行预案。 \n",
      "　　　　　　　　　　　　　　　　　　　　　　　　　　　　　　　　国家粮食和物资储备局　　　　　　　　　　　　　　　　　　　　　　　　　　　　　　　　　　 　2018年11月12日\n",
      "　　　　　　　　　　　　　　　　　　　　　　　　　　　　\n",
      "　　　　　　　　　　　　　　　　　　　　　\n",
      "　　　　　　　　　　　　　　\n",
      "　　　　　　　\n",
      "　　　　　　　　　　　　　　　　　　　　　　　　　　　　　　　　　　 　\n",
      "　　　　　　　　　　　　　　　　　　　　　　　　　　　 　\n",
      "　　　　　　　　　　　　　　　　　　　　 　\n",
      "　　　　　　　　　　　　　 　\n",
      "　　　　　　 　\n",
      "（此件公开发布）\n"
     ]
    }
   ],
   "source": [
    "import requests\n",
    "from bs4 import  BeautifulSoup\n",
    "response=requests.get(url=\"http://www.chinagrain.gov.cn/n787423/c1265863/content.html\")\n",
    "response.encoding=response.apparent_encoding\n",
    "soup=BeautifulSoup(response.text,\"lxml\")\n",
    "taget_title=soup.find(name='title')\n",
    "print(taget_title.text)\n",
    "taget_time=soup.find(name='span',attrs={'class':'times'})\n",
    "print(taget_time.text)\n",
    "taget_source=soup.find(name='div',attrs={'class':'t-website'})\n",
    "print(taget_source.text)\n",
    "taget_img=soup.find(name='img')\n",
    "taget_content=soup.find_all(name='font',attrs={'face':'Arial'})\n",
    "for taget_content_one in taget_content:\n",
    "    taget_content_two=taget_content_one.text\n",
    "    with open(\"crop_content.txt\",\"a\",encoding=\"utf-8\")as f:\n",
    "            f.write(taget_content_two)\n",
    "            f.close()\n",
    "    print(taget_content_two)\n",
    "crop_dict={}\n",
    "crop_dict[\"title\"]=taget_title.text\n",
    "crop_dict[\"source\"]=taget_source.text\n",
    "crop_dict[\"time\"]=taget_time.text\n",
    "with open(\"totalinfor.txt\",\"a\",encoding=\"utf-8\")as f:\n",
    "    f.write(str(crop_dict))\n",
    "    f.close()\n"
   ]
  },
  {
   "cell_type": "code",
   "execution_count": null,
   "metadata": {
    "collapsed": true
   },
   "outputs": [],
   "source": []
  }
 ],
 "metadata": {
  "kernelspec": {
   "display_name": "Python 3",
   "language": "python",
   "name": "python3"
  },
  "language_info": {
   "codemirror_mode": {
    "name": "ipython",
    "version": 3
   },
   "file_extension": ".py",
   "mimetype": "text/x-python",
   "name": "python",
   "nbconvert_exporter": "python",
   "pygments_lexer": "ipython3",
   "version": "3.6.3"
  }
 },
 "nbformat": 4,
 "nbformat_minor": 2
}
